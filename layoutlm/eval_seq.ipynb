{
 "cells": [
  {
   "cell_type": "code",
   "execution_count": null,
   "metadata": {},
   "outputs": [],
   "source": [
    "import os\n",
    "os.environ[\"CUDA_DEVICE_ORDER\"]=\"PCI_BUS_ID\"\n",
    "os.environ[\"CUDA_VISIBLE_DEVICES\"]=\"2,3\"  # specify which GPU(s) to be used\n",
    "os.environ[\"CUDA_VISIBLE_DEVICES\"]=\"0\"  # specify which GPU(s) to be used\n",
    "\n",
    "%matplotlib inline\n",
    "%reload_ext autoreload\n",
    "%autoreload 2"
   ]
  },
  {
   "cell_type": "code",
   "execution_count": 2,
   "metadata": {},
   "outputs": [],
   "source": [
    "from __future__ import absolute_import, division, print_function\n",
    "\n",
    "import argparse\n",
    "import glob\n",
    "import logging\n",
    "import os\n",
    "import shutil\n",
    "import random\n",
    "\n",
    "import numpy as np\n",
    "import torch\n",
    "from seqeval.metrics import (\n",
    "    precision_score,\n",
    "    recall_score,\n",
    "    f1_score,\n",
    "    classification_report,\n",
    ")\n",
    "from tensorboardX import SummaryWriter\n",
    "from torch.nn import CrossEntropyLoss\n",
    "from torch.utils.data import DataLoader, RandomSampler, SequentialSampler, TensorDataset\n",
    "from torch.utils.data.distributed import DistributedSampler\n",
    "from tqdm import tqdm, trange\n",
    "from utils_seq_labeling import (\n",
    "    convert_examples_to_features,\n",
    "    get_labels,\n",
    "    read_examples_from_file,\n",
    ")\n",
    "from modeling_layoutlm import LayoutLMForTokenClassification\n",
    "from transformers import AdamW, get_linear_schedule_with_warmup\n",
    "from transformers import (\n",
    "    WEIGHTS_NAME,\n",
    "    BertConfig,\n",
    "    BertForTokenClassification,\n",
    "    BertTokenizer,\n",
    ")\n",
    "from transformers import RobertaConfig, RobertaForTokenClassification, RobertaTokenizer\n",
    "from transformers import (\n",
    "    DistilBertConfig,\n",
    "    DistilBertForTokenClassification,\n",
    "    DistilBertTokenizer,\n",
    ")\n",
    "\n",
    "logger = logging.getLogger(__name__)\n",
    "\n",
    "ALL_MODELS = sum(\n",
    "    (\n",
    "        tuple(conf.pretrained_config_archive_map.keys())\n",
    "        for conf in (BertConfig, RobertaConfig, DistilBertConfig)\n",
    "    ),\n",
    "    (),\n",
    ")\n",
    "\n",
    "MODEL_CLASSES = {\n",
    "    \"bert\": (BertConfig, BertForTokenClassification, BertTokenizer),\n",
    "    \"roberta\": (RobertaConfig, RobertaForTokenClassification, RobertaTokenizer),\n",
    "    \"distilbert\": (\n",
    "        DistilBertConfig,\n",
    "        DistilBertForTokenClassification,\n",
    "        DistilBertTokenizer,\n",
    "    ),\n",
    "    \"layoutlm\": (BertConfig, LayoutLMForTokenClassification, BertTokenizer),\n",
    "}\n",
    "\n",
    "def set_seed(args):\n",
    "    random.seed(args.seed)\n",
    "    np.random.seed(args.seed)\n",
    "    torch.manual_seed(args.seed)\n",
    "    if args.n_gpu > 0:\n",
    "        torch.cuda.manual_seed_all(args.seed)"
   ]
  },
  {
   "cell_type": "code",
   "execution_count": 3,
   "metadata": {},
   "outputs": [],
   "source": [
    "from run_seq_labeling import load_and_cache_examples"
   ]
  },
  {
   "cell_type": "code",
   "execution_count": 20,
   "metadata": {},
   "outputs": [],
   "source": [
    "parser = argparse.ArgumentParser()\n",
    "\n",
    "## Required parameters\n",
    "parser.add_argument(\n",
    "    \"--data_dir\",\n",
    "    default='data',\n",
    "    type=str,\n",
    "    required=False,\n",
    "    help=\"The input data dir. Should contain the training files for the CoNLL-2003 NER task.\",\n",
    ")\n",
    "parser.add_argument(\n",
    "    \"--model_type\",\n",
    "    default='layoutlm',\n",
    "    type=str,\n",
    "    required=False,\n",
    "    help=\"Model type selected in the list: \" + \", \".join(MODEL_CLASSES.keys()),\n",
    ")\n",
    "parser.add_argument(\n",
    "    \"--model_name_or_path\",\n",
    "    #default='pretrained/layoutlm-base-uncased',\n",
    "    #default='pretrained/syn_model',\n",
    "    default='output/checkpoint-3000',\n",
    "    type=str,\n",
    "    required=False,\n",
    "    help=\"Path to pre-trained model or shortcut name selected in the list: \"\n",
    "    + \", \".join(ALL_MODELS),\n",
    ")\n",
    "parser.add_argument(\n",
    "    \"--output_dir\",\n",
    "    default='output',\n",
    "    type=str,\n",
    "    required=False,\n",
    "    help=\"The output directory where the model predictions and checkpoints will be written.\",\n",
    ")\n",
    "\n",
    "## Other parameters\n",
    "parser.add_argument(\n",
    "    \"--labels\",\n",
    "    default=\"data/labels.txt\",\n",
    "    type=str,\n",
    "    help=\"Path to a file containing all labels. If not specified, CoNLL-2003 labels are used.\",\n",
    ")\n",
    "parser.add_argument(\n",
    "    \"--config_name\",\n",
    "    default=\"\",\n",
    "    type=str,\n",
    "    help=\"Pretrained config name or path if not the same as model_name\",\n",
    ")\n",
    "parser.add_argument(\n",
    "    \"--tokenizer_name\",\n",
    "    default=\"\",\n",
    "    type=str,\n",
    "    help=\"Pretrained tokenizer name or path if not the same as model_name\",\n",
    ")\n",
    "parser.add_argument(\n",
    "    \"--cache_dir\",\n",
    "    default=\"\",\n",
    "    type=str,\n",
    "    help=\"Where do you want to store the pre-trained models downloaded from s3\",\n",
    ")\n",
    "parser.add_argument(\n",
    "    \"--max_seq_length\",\n",
    "    default=512,\n",
    "    type=int,\n",
    "    help=\"The maximum total input sequence length after tokenization. Sequences longer \"\n",
    "    \"than this will be truncated, sequences shorter will be padded.\",\n",
    ")\n",
    "parser.add_argument(\n",
    "    \"--do_lower_case\",\n",
    "    action=\"store_true\",\n",
    "    default=True,\n",
    "    help=\"Set this flag if you are using an uncased model.\",\n",
    ")\n",
    "parser.add_argument(\n",
    "    \"--per_gpu_eval_batch_size\",\n",
    "    default=16,\n",
    "    type=int,\n",
    "    help=\"Batch size per GPU/CPU for evaluation.\",\n",
    ")\n",
    "parser.add_argument(\n",
    "    \"--no_cuda\", action=\"store_true\",\n",
    "    help=\"Avoid using CUDA when available\"\n",
    ")\n",
    "parser.add_argument(\n",
    "    \"--overwrite_output_dir\",\n",
    "    action=\"store_true\",\n",
    "    help=\"Overwrite the content of the output directory\",\n",
    ")\n",
    "parser.add_argument(\n",
    "    \"--overwrite_cache\",\n",
    "    action=\"store_true\",\n",
    "    help=\"Overwrite the cached training and evaluation sets\",\n",
    ")\n",
    "parser.add_argument(\n",
    "    \"--seed\", type=int, default=42, help=\"random seed for initialization\"\n",
    ")\n",
    "\n",
    "parser.add_argument(\n",
    "    \"--fp16\",\n",
    "    action=\"store_true\",\n",
    "    default=True,\n",
    "    help=\"Whether to use 16-bit (mixed) precision (through NVIDIA apex) instead of 32-bit\",\n",
    ")\n",
    "parser.add_argument(\n",
    "    \"--fp16_opt_level\",\n",
    "    type=str,\n",
    "    default=\"O1\",\n",
    "    help=\"For fp16: Apex AMP optimization level selected in ['O0', 'O1', 'O2', and 'O3'].\"\n",
    "    \"See details at https://nvidia.github.io/apex/amp.html\",\n",
    ")\n",
    "parser.add_argument(\n",
    "    \"--local_rank\",\n",
    "    type=int,\n",
    "    default=-1,\n",
    "    help=\"For distributed training: local_rank\",\n",
    ")\n",
    "args = parser.parse_args('')"
   ]
  },
  {
   "cell_type": "code",
   "execution_count": 21,
   "metadata": {},
   "outputs": [],
   "source": [
    "import logging\n",
    "import sys\n",
    "logging.basicConfig(stream=sys.stdout, level=logging.INFO)"
   ]
  },
  {
   "cell_type": "code",
   "execution_count": 22,
   "metadata": {},
   "outputs": [
    {
     "data": {
      "text/plain": [
       "['B-EDUCATION_GROUP',\n",
       " 'B-EXPERIENCE_GROUP',\n",
       " 'B-IDENTITY_GROUP',\n",
       " 'B-INTEREST_GROUP',\n",
       " 'B-INTRODUCTION_GROUP',\n",
       " 'B-LANGUAGE_GROUP',\n",
       " 'B-SKILL_GROUP',\n",
       " 'B-TITLE_GROUP',\n",
       " 'E-EDUCATION_GROUP',\n",
       " 'E-EXPERIENCE_GROUP',\n",
       " 'E-IDENTITY_GROUP',\n",
       " 'E-INTEREST_GROUP',\n",
       " 'E-INTRODUCTION_GROUP',\n",
       " 'E-LANGUAGE_GROUP',\n",
       " 'E-SKILL_GROUP',\n",
       " 'E-TITLE_GROUP',\n",
       " 'I-EDUCATION_GROUP',\n",
       " 'I-EXPERIENCE_GROUP',\n",
       " 'I-IDENTITY_GROUP',\n",
       " 'I-INTEREST_GROUP',\n",
       " 'I-INTRODUCTION_GROUP',\n",
       " 'I-LANGUAGE_GROUP',\n",
       " 'I-SKILL_GROUP',\n",
       " 'I-TITLE_GROUP',\n",
       " 'O',\n",
       " 'S-EDUCATION_GROUP',\n",
       " 'S-EXPERIENCE_GROUP',\n",
       " 'S-IDENTITY_GROUP',\n",
       " 'S-INTEREST_GROUP',\n",
       " 'S-INTRODUCTION_GROUP',\n",
       " 'S-LANGUAGE_GROUP',\n",
       " 'S-SKILL_GROUP',\n",
       " 'S-TITLE_GROUP']"
      ]
     },
     "execution_count": 22,
     "metadata": {},
     "output_type": "execute_result"
    }
   ],
   "source": [
    "get_labels(args.labels)"
   ]
  },
  {
   "cell_type": "code",
   "execution_count": 23,
   "metadata": {},
   "outputs": [
    {
     "name": "stdout",
     "output_type": "stream",
     "text": [
      "WARNING:__main__:Process rank: -1, device: cuda:0, n_gpu: 1, distributed training: False, 16-bits training: True\n",
      "INFO:transformers.configuration_utils:loading configuration file output/checkpoint-3000/config.json\n",
      "INFO:transformers.configuration_utils:Model config BertConfig {\n",
      "  \"_num_labels\": 33,\n",
      "  \"architectures\": [\n",
      "    \"LayoutLMForTokenClassification\"\n",
      "  ],\n",
      "  \"attention_probs_dropout_prob\": 0.1,\n",
      "  \"bad_words_ids\": null,\n",
      "  \"bos_token_id\": null,\n",
      "  \"decoder_start_token_id\": null,\n",
      "  \"do_sample\": false,\n",
      "  \"early_stopping\": false,\n",
      "  \"eos_token_id\": null,\n",
      "  \"finetuning_task\": null,\n",
      "  \"hidden_act\": \"gelu\",\n",
      "  \"hidden_dropout_prob\": 0.1,\n",
      "  \"hidden_size\": 768,\n",
      "  \"id2label\": {\n",
      "    \"0\": \"LABEL_0\",\n",
      "    \"1\": \"LABEL_1\",\n",
      "    \"2\": \"LABEL_2\",\n",
      "    \"3\": \"LABEL_3\",\n",
      "    \"4\": \"LABEL_4\",\n",
      "    \"5\": \"LABEL_5\",\n",
      "    \"6\": \"LABEL_6\",\n",
      "    \"7\": \"LABEL_7\",\n",
      "    \"8\": \"LABEL_8\",\n",
      "    \"9\": \"LABEL_9\",\n",
      "    \"10\": \"LABEL_10\",\n",
      "    \"11\": \"LABEL_11\",\n",
      "    \"12\": \"LABEL_12\",\n",
      "    \"13\": \"LABEL_13\",\n",
      "    \"14\": \"LABEL_14\",\n",
      "    \"15\": \"LABEL_15\",\n",
      "    \"16\": \"LABEL_16\",\n",
      "    \"17\": \"LABEL_17\",\n",
      "    \"18\": \"LABEL_18\",\n",
      "    \"19\": \"LABEL_19\",\n",
      "    \"20\": \"LABEL_20\",\n",
      "    \"21\": \"LABEL_21\",\n",
      "    \"22\": \"LABEL_22\",\n",
      "    \"23\": \"LABEL_23\",\n",
      "    \"24\": \"LABEL_24\",\n",
      "    \"25\": \"LABEL_25\",\n",
      "    \"26\": \"LABEL_26\",\n",
      "    \"27\": \"LABEL_27\",\n",
      "    \"28\": \"LABEL_28\",\n",
      "    \"29\": \"LABEL_29\",\n",
      "    \"30\": \"LABEL_30\",\n",
      "    \"31\": \"LABEL_31\",\n",
      "    \"32\": \"LABEL_32\"\n",
      "  },\n",
      "  \"initializer_range\": 0.02,\n",
      "  \"intermediate_size\": 3072,\n",
      "  \"is_decoder\": false,\n",
      "  \"is_encoder_decoder\": false,\n",
      "  \"label2id\": {\n",
      "    \"LABEL_0\": 0,\n",
      "    \"LABEL_1\": 1,\n",
      "    \"LABEL_10\": 10,\n",
      "    \"LABEL_11\": 11,\n",
      "    \"LABEL_12\": 12,\n",
      "    \"LABEL_13\": 13,\n",
      "    \"LABEL_14\": 14,\n",
      "    \"LABEL_15\": 15,\n",
      "    \"LABEL_16\": 16,\n",
      "    \"LABEL_17\": 17,\n",
      "    \"LABEL_18\": 18,\n",
      "    \"LABEL_19\": 19,\n",
      "    \"LABEL_2\": 2,\n",
      "    \"LABEL_20\": 20,\n",
      "    \"LABEL_21\": 21,\n",
      "    \"LABEL_22\": 22,\n",
      "    \"LABEL_23\": 23,\n",
      "    \"LABEL_24\": 24,\n",
      "    \"LABEL_25\": 25,\n",
      "    \"LABEL_26\": 26,\n",
      "    \"LABEL_27\": 27,\n",
      "    \"LABEL_28\": 28,\n",
      "    \"LABEL_29\": 29,\n",
      "    \"LABEL_3\": 3,\n",
      "    \"LABEL_30\": 30,\n",
      "    \"LABEL_31\": 31,\n",
      "    \"LABEL_32\": 32,\n",
      "    \"LABEL_4\": 4,\n",
      "    \"LABEL_5\": 5,\n",
      "    \"LABEL_6\": 6,\n",
      "    \"LABEL_7\": 7,\n",
      "    \"LABEL_8\": 8,\n",
      "    \"LABEL_9\": 9\n",
      "  },\n",
      "  \"layer_norm_eps\": 1e-12,\n",
      "  \"length_penalty\": 1.0,\n",
      "  \"max_2d_position_embeddings\": 1024,\n",
      "  \"max_length\": 20,\n",
      "  \"max_position_embeddings\": 512,\n",
      "  \"min_length\": 0,\n",
      "  \"model_type\": \"bert\",\n",
      "  \"no_repeat_ngram_size\": 0,\n",
      "  \"num_attention_heads\": 12,\n",
      "  \"num_beams\": 1,\n",
      "  \"num_hidden_layers\": 12,\n",
      "  \"num_return_sequences\": 1,\n",
      "  \"output_attentions\": false,\n",
      "  \"output_hidden_states\": false,\n",
      "  \"output_past\": true,\n",
      "  \"pad_token_id\": 0,\n",
      "  \"prefix\": null,\n",
      "  \"pruned_heads\": {},\n",
      "  \"repetition_penalty\": 1.0,\n",
      "  \"task_specific_params\": null,\n",
      "  \"temperature\": 1.0,\n",
      "  \"top_k\": 50,\n",
      "  \"top_p\": 1.0,\n",
      "  \"torchscript\": false,\n",
      "  \"type_vocab_size\": 2,\n",
      "  \"use_bfloat16\": false,\n",
      "  \"vocab_size\": 30522\n",
      "}\n",
      "\n",
      "INFO:transformers.tokenization_utils:Model name 'output/checkpoint-3000' not found in model shortcut name list (bert-base-uncased, bert-large-uncased, bert-base-cased, bert-large-cased, bert-base-multilingual-uncased, bert-base-multilingual-cased, bert-base-chinese, bert-base-german-cased, bert-large-uncased-whole-word-masking, bert-large-cased-whole-word-masking, bert-large-uncased-whole-word-masking-finetuned-squad, bert-large-cased-whole-word-masking-finetuned-squad, bert-base-cased-finetuned-mrpc, bert-base-german-dbmdz-cased, bert-base-german-dbmdz-uncased, bert-base-finnish-cased-v1, bert-base-finnish-uncased-v1, bert-base-dutch-cased). Assuming 'output/checkpoint-3000' is a path, a model identifier, or url to a directory containing tokenizer files.\n",
      "INFO:transformers.tokenization_utils:Didn't find file output/checkpoint-3000/added_tokens.json. We won't load it.\n",
      "INFO:transformers.tokenization_utils:Didn't find file output/checkpoint-3000/special_tokens_map.json. We won't load it.\n",
      "INFO:transformers.tokenization_utils:Didn't find file output/checkpoint-3000/tokenizer_config.json. We won't load it.\n",
      "INFO:transformers.tokenization_utils:loading file output/checkpoint-3000/vocab.txt\n",
      "INFO:transformers.tokenization_utils:loading file None\n",
      "INFO:transformers.tokenization_utils:loading file None\n",
      "INFO:transformers.tokenization_utils:loading file None\n",
      "INFO:transformers.modeling_utils:loading weights file output/checkpoint-3000/pytorch_model.bin\n"
     ]
    }
   ],
   "source": [
    "# Setup CUDA, GPU & distributed training\n",
    "if args.local_rank == -1 or args.no_cuda:\n",
    "    device = torch.device(\n",
    "        \"cuda:0\" if torch.cuda.is_available() and not args.no_cuda else \"cpu\"\n",
    "    )\n",
    "    if args.no_cuda:\n",
    "        args.n_gpu = 0\n",
    "    else:\n",
    "        torch.cuda.set_device(device)\n",
    "        args.n_gpu = torch.cuda.device_count()\n",
    "        \n",
    "else:  # Initializes the distributed backend which will take care of sychronizing nodes/GPUs\n",
    "    torch.cuda.set_device(args.local_rank)\n",
    "    device = torch.device(\"cuda\", args.local_rank)\n",
    "    torch.distributed.init_process_group(backend=\"nccl\")\n",
    "    args.n_gpu = 1\n",
    "args.device = device\n",
    "\n",
    "# Setup logging\n",
    "logging.basicConfig(\n",
    "    filename=os.path.join(args.output_dir, \"pred.log\"),\n",
    "    format=\"%(asctime)s - %(levelname)s - %(name)s -   %(message)s\",\n",
    "    datefmt=\"%m/%d/%Y %H:%M:%S\",\n",
    "    level=logging.INFO if args.local_rank in [-1, 0] else logging.WARN,\n",
    ")\n",
    "logger.warning(\n",
    "    \"Process rank: %s, device: %s, n_gpu: %s, distributed training: %s, 16-bits training: %s\",\n",
    "    args.local_rank,\n",
    "    device,\n",
    "    args.n_gpu,\n",
    "    bool(args.local_rank != -1),\n",
    "    args.fp16,\n",
    ")\n",
    "\n",
    "# Set seed\n",
    "set_seed(args)\n",
    "\n",
    "# Prepare CONLL-2003 task\n",
    "labels = get_labels(args.labels)\n",
    "num_labels = len(labels)\n",
    "# Use cross entropy ignore index as padding label id so that only real label ids contribute to the loss later\n",
    "pad_token_label_id = CrossEntropyLoss().ignore_index\n",
    "\n",
    "# Load pretrained model and tokenizer\n",
    "if args.local_rank not in [-1, 0]:\n",
    "    torch.distributed.barrier()  # Make sure only the first process in distributed training will download model & vocab\n",
    "\n",
    "args.model_type = args.model_type.lower()\n",
    "config_class, model_class, tokenizer_class = MODEL_CLASSES[args.model_type]\n",
    "config = config_class.from_pretrained(\n",
    "    args.config_name if args.config_name else args.model_name_or_path,\n",
    "    num_labels=num_labels,\n",
    "    cache_dir=args.cache_dir if args.cache_dir else None,\n",
    ")\n",
    "tokenizer = tokenizer_class.from_pretrained(\n",
    "    args.tokenizer_name if args.tokenizer_name else args.model_name_or_path,\n",
    "    do_lower_case=args.do_lower_case,\n",
    "    cache_dir=args.cache_dir if args.cache_dir else None,\n",
    ")\n",
    "model = model_class.from_pretrained(\n",
    "    args.model_name_or_path,\n",
    "    from_tf=bool(\".ckpt\" in args.model_name_or_path),\n",
    "    config=config,\n",
    "    cache_dir=args.cache_dir if args.cache_dir else None,\n",
    ")\n",
    "\n",
    "if args.local_rank == 0:\n",
    "    torch.distributed.barrier()  # Make sure only the first process in distributed training will download model & vocab\n",
    "\n",
    "model.to(args.device);"
   ]
  },
  {
   "cell_type": "markdown",
   "metadata": {},
   "source": [
    "- ### evaluation"
   ]
  },
  {
   "cell_type": "code",
   "execution_count": 24,
   "metadata": {},
   "outputs": [
    {
     "name": "stdout",
     "output_type": "stream",
     "text": [
      "INFO:run_seq_labeling:Saving features into cached file data/cached_test_checkpoint-3000_512\n"
     ]
    }
   ],
   "source": [
    "mode=\"test\"\n",
    "\n",
    "eval_dataset = load_and_cache_examples(\n",
    "    args, tokenizer, labels, pad_token_label_id, mode=mode\n",
    ")\n",
    "\n",
    "args.eval_batch_size = args.per_gpu_eval_batch_size * max(1, args.n_gpu)\n",
    "# Note that DistributedSampler samples randomly\n",
    "eval_sampler = (\n",
    "    SequentialSampler(eval_dataset)\n",
    ")\n",
    "eval_dataloader = DataLoader(\n",
    "    eval_dataset, sampler=eval_sampler, batch_size=args.eval_batch_size\n",
    ")"
   ]
  },
  {
   "cell_type": "code",
   "execution_count": 25,
   "metadata": {},
   "outputs": [],
   "source": [
    "from run_seq_labeling import evaluate"
   ]
  },
  {
   "cell_type": "code",
   "execution_count": 26,
   "metadata": {},
   "outputs": [
    {
     "name": "stdout",
     "output_type": "stream",
     "text": [
      "INFO:__main__:Training/evaluation parameters Namespace(cache_dir='', config_name='', data_dir='data', device=device(type='cuda', index=0), do_lower_case=True, eval_batch_size=16, fp16=True, fp16_opt_level='O1', labels='data/labels.txt', local_rank=-1, max_seq_length=512, model_name_or_path='output/checkpoint-3000', model_type='layoutlm', n_gpu=1, no_cuda=False, output_dir='output', overwrite_cache=False, overwrite_output_dir=False, per_gpu_eval_batch_size=16, seed=42, tokenizer_name='')\n",
      "INFO:run_seq_labeling:Loading features from cached file data/cached_test_checkpoint-3000_512\n",
      "INFO:run_seq_labeling:***** Running evaluation  *****\n",
      "INFO:run_seq_labeling:  Num examples = 489\n",
      "INFO:run_seq_labeling:  Batch size = 16\n"
     ]
    },
    {
     "name": "stderr",
     "output_type": "stream",
     "text": [
      "Evaluating: 100%|██████████| 31/31 [00:08<00:00,  3.67it/s]\n"
     ]
    },
    {
     "name": "stdout",
     "output_type": "stream",
     "text": [
      "INFO:run_seq_labeling:\n",
      "                    precision    recall  f1-score   support\n",
      "\n",
      "    IDENTITY_GROUP       0.90      0.89      0.90      1924\n",
      "   EDUCATION_GROUP       0.82      0.79      0.81      2291\n",
      "       SKILL_GROUP       0.76      0.83      0.79      3082\n",
      "  EXPERIENCE_GROUP       0.85      0.76      0.80      7530\n",
      "    INTEREST_GROUP       0.81      0.75      0.78       720\n",
      "    LANGUAGE_GROUP       0.80      0.79      0.80       428\n",
      "       TITLE_GROUP       0.92      0.91      0.91       381\n",
      "INTRODUCTION_GROUP       0.54      0.90      0.67       219\n",
      "\n",
      "         micro avg       0.82      0.80      0.81     16575\n",
      "         macro avg       0.83      0.80      0.81     16575\n",
      "\n",
      "INFO:run_seq_labeling:***** Eval results  *****\n",
      "INFO:run_seq_labeling:  f1 = 0.8123717654264279\n",
      "INFO:run_seq_labeling:  loss = 0.603515749977481\n",
      "INFO:run_seq_labeling:  precision = 0.8248756218905473\n",
      "INFO:run_seq_labeling:  recall = 0.8002413273001509\n"
     ]
    }
   ],
   "source": [
    "logger.info(\"Training/evaluation parameters %s\", args)\n",
    "\n",
    "result, predictions = evaluate(\n",
    "    args, model, tokenizer, labels, pad_token_label_id, mode=\"test\"\n",
    ")"
   ]
  },
  {
   "cell_type": "code",
   "execution_count": 11,
   "metadata": {},
   "outputs": [
    {
     "name": "stdout",
     "output_type": "stream",
     "text": [
      "INFO:__main__:Training/evaluation parameters Namespace(cache_dir='', config_name='', data_dir='data', device=device(type='cuda', index=0), do_lower_case=True, eval_batch_size=16, fp16=True, fp16_opt_level='O1', labels='data/labels.txt', local_rank=-1, max_seq_length=512, model_name_or_path='output/checkpoint-1000', model_type='layoutlm', n_gpu=1, no_cuda=False, output_dir='output', overwrite_cache=False, overwrite_output_dir=False, per_gpu_eval_batch_size=16, seed=42, tokenizer_name='')\n",
      "INFO:run_seq_labeling:Loading features from cached file data/cached_test_checkpoint-1000_512\n",
      "INFO:run_seq_labeling:***** Running evaluation  *****\n",
      "INFO:run_seq_labeling:  Num examples = 489\n",
      "INFO:run_seq_labeling:  Batch size = 16\n"
     ]
    },
    {
     "name": "stderr",
     "output_type": "stream",
     "text": [
      "Evaluating: 100%|██████████| 31/31 [00:08<00:00,  3.46it/s]\n"
     ]
    },
    {
     "name": "stdout",
     "output_type": "stream",
     "text": [
      "INFO:run_seq_labeling:\n",
      "                    precision    recall  f1-score   support\n",
      "\n",
      "    IDENTITY_GROUP       0.88      0.88      0.88      1924\n",
      "   EDUCATION_GROUP       0.80      0.76      0.78      2291\n",
      "       SKILL_GROUP       0.73      0.82      0.78      3082\n",
      "  EXPERIENCE_GROUP       0.84      0.78      0.81      7530\n",
      "    INTEREST_GROUP       0.80      0.75      0.77       720\n",
      "    LANGUAGE_GROUP       0.77      0.75      0.76       428\n",
      "       TITLE_GROUP       0.91      0.81      0.86       381\n",
      "INTRODUCTION_GROUP       0.58      0.74      0.65       219\n",
      "\n",
      "         micro avg       0.81      0.80      0.80     16575\n",
      "         macro avg       0.81      0.80      0.80     16575\n",
      "\n",
      "INFO:run_seq_labeling:***** Eval results  *****\n",
      "INFO:run_seq_labeling:  f1 = 0.8027877533629557\n",
      "INFO:run_seq_labeling:  loss = 0.4143898573613936\n",
      "INFO:run_seq_labeling:  precision = 0.8099858748387889\n",
      "INFO:run_seq_labeling:  recall = 0.7957164404223228\n"
     ]
    }
   ],
   "source": [
    "logger.info(\"Training/evaluation parameters %s\", args)\n",
    "\n",
    "result, predictions = evaluate(\n",
    "    args, model, tokenizer, labels, pad_token_label_id, mode=\"test\"\n",
    ")"
   ]
  },
  {
   "cell_type": "code",
   "execution_count": 13,
   "metadata": {},
   "outputs": [
    {
     "name": "stdout",
     "output_type": "stream",
     "text": [
      "INFO:__main__:Training/evaluation parameters Namespace(cache_dir='', config_name='', data_dir='data_xt', device=device(type='cuda', index=0), do_lower_case=True, eval_batch_size=16, fp16=True, fp16_opt_level='O1', labels='data_xt/labels.txt', local_rank=-1, max_seq_length=512, model_name_or_path='pretrained/syn_model', model_type='layoutlm', n_gpu=2, no_cuda=False, output_dir='output', overwrite_cache=False, overwrite_output_dir=False, per_gpu_eval_batch_size=8, seed=42, tokenizer_name='')\n",
      "INFO:run_seq_labeling:Loading features from cached file data_xt/cached_test_syn_model_512\n",
      "INFO:run_seq_labeling:***** Running evaluation  *****\n",
      "INFO:run_seq_labeling:  Num examples = 1196\n",
      "INFO:run_seq_labeling:  Batch size = 16\n"
     ]
    },
    {
     "name": "stderr",
     "output_type": "stream",
     "text": [
      "Evaluating: 100%|██████████| 75/75 [00:14<00:00,  5.12it/s]\n"
     ]
    },
    {
     "name": "stdout",
     "output_type": "stream",
     "text": [
      "INFO:run_seq_labeling:\n",
      "                    precision    recall  f1-score   support\n",
      "\n",
      "       SKILL_GROUP       0.91      0.90      0.91      7987\n",
      "  EXPERIENCE_GROUP       0.94      0.94      0.94     19624\n",
      "    IDENTITY_GROUP       0.96      0.96      0.96      4987\n",
      "    INTEREST_GROUP       0.85      0.86      0.85      1705\n",
      "   EDUCATION_GROUP       0.92      0.93      0.92      5817\n",
      "    LANGUAGE_GROUP       0.84      0.89      0.87      1039\n",
      "       TITLE_GROUP       0.86      0.86      0.86       628\n",
      "INTRODUCTION_GROUP       0.57      0.68      0.62       548\n",
      "\n",
      "         micro avg       0.92      0.92      0.92     42335\n",
      "         macro avg       0.92      0.92      0.92     42335\n",
      "\n",
      "INFO:run_seq_labeling:***** Eval results  *****\n",
      "INFO:run_seq_labeling:  f1 = 0.9218586125219481\n",
      "INFO:run_seq_labeling:  loss = 0.4366288814942042\n",
      "INFO:run_seq_labeling:  precision = 0.9198099896529018\n",
      "INFO:run_seq_labeling:  recall = 0.9239163812448329\n"
     ]
    }
   ],
   "source": [
    "logger.info(\"Training/evaluation parameters %s\", args)\n",
    "\n",
    "result, predictions = evaluate(\n",
    "    args, model, tokenizer, labels, pad_token_label_id, mode=\"test\"\n",
    ")"
   ]
  },
  {
   "cell_type": "code",
   "execution_count": null,
   "metadata": {},
   "outputs": [],
   "source": []
  },
  {
   "cell_type": "code",
   "execution_count": 14,
   "metadata": {},
   "outputs": [],
   "source": [
    "from xtramile.imports import *\n",
    "from xtramile.vision.ocr.tools import extract_pdf_lines_with_words\n",
    "from xtramile.vision.utils import to_int, transform_dataturks_box\n",
    "from xtramile.vision.ocr.pdf_wrapper import PdfItem\n",
    "from xtramile.vision.draw import show_image, show_images"
   ]
  },
  {
   "cell_type": "code",
   "execution_count": null,
   "metadata": {},
   "outputs": [],
   "source": [
    "doc = extract_pdf_lines_with_words('./1014725-1.pdf')"
   ]
  },
  {
   "cell_type": "code",
   "execution_count": null,
   "metadata": {},
   "outputs": [],
   "source": [
    "doc = extract_pdf_lines_with_words('./1.pdf')"
   ]
  },
  {
   "cell_type": "code",
   "execution_count": 16,
   "metadata": {},
   "outputs": [
    {
     "name": "stdout",
     "output_type": "stream",
     "text": [
      "INFO:pdfminer.pdfdocument:xref found: pos=b'126641'\n",
      "INFO:pdfminer.pdfdocument:read_xref_from: start=126641, token=/b'xref'\n",
      "INFO:pdfminer.pdfdocument:xref objects: {1: (None, 125816, 0), 2: (None, 19, 0), 3: (None, 2531, 0), 4: (None, 2552, 0), 5: (None, 125976, 0), 6: (None, 51839, 0), 7: (None, 52013, 0), 8: (None, 126224, 0), 9: (None, 126119, 0), 10: (None, 52033, 0), 11: (None, 64526, 0), 12: (None, 64549, 0), 13: (None, 64740, 0), 14: (None, 65110, 0), 15: (None, 65333, 0), 16: (None, 91753, 0), 17: (None, 91776, 0), 18: (None, 91982, 0), 19: (None, 92519, 0), 20: (None, 92910, 0), 21: (None, 124512, 0), 22: (None, 124535, 0), 23: (None, 124736, 0), 24: (None, 125274, 0), 25: (None, 125664, 0), 26: (None, 125717, 0), 27: (None, 126365, 0), 28: (None, 126462, 0)}\n",
      "INFO:pdfminer.pdfdocument:trailer: {'Size': 29, 'Root': <PDFObjRef:27>, 'Info': <PDFObjRef:28>, 'ID': [b'\\xcb\\xef[5\\xedeE\\x1ai\\xca\\x03\\xf0\\xfe\\xa3\\xedN', b'\\xcb\\xef[5\\xedeE\\x1ai\\xca\\x03\\xf0\\xfe\\xa3\\xedN'], 'DocChecksum': /'05F7A9B71390E52B74E39431C1CF06E6'}\n",
      "INFO:pdfminer.pdfdocument:trailer: {'Size': 29, 'Root': <PDFObjRef:27>, 'Info': <PDFObjRef:28>, 'ID': [b'\\xcb\\xef[5\\xedeE\\x1ai\\xca\\x03\\xf0\\xfe\\xa3\\xedN', b'\\xcb\\xef[5\\xedeE\\x1ai\\xca\\x03\\xf0\\xfe\\xa3\\xedN'], 'DocChecksum': /'05F7A9B71390E52B74E39431C1CF06E6'}\n",
      "INFO:pdfminer.pdfpage:Pages: Kids=[<PDFObjRef:1>, <PDFObjRef:5>]\n",
      "INFO:pdfminer.pdfpage:Page: {'Type': /'Page', 'Parent': <PDFObjRef:9>, 'Resources': <PDFObjRef:26>, 'MediaBox': [0, 0, 595, 842], 'Annots': [<PDFObjRef:8>], 'Group': {'S': /'Transparency', 'CS': /'DeviceRGB', 'I': True}, 'Contents': <PDFObjRef:2>}\n",
      "INFO:pdfminer.pdfinterp:Processing page: <PDFPage: Resources={'Font': <PDFObjRef:25>, 'XObject': {'Im4': <PDFObjRef:4>}, 'ProcSet': [/'PDF', /'Text', /'ImageC', /'ImageI', /'ImageB']}, MediaBox=[0, 0, 595, 842]>\n",
      "INFO:pdfminer.pdfinterp:render_contents: resources={'Font': <PDFObjRef:25>, 'XObject': {'Im4': <PDFObjRef:4>}, 'ProcSet': [/'PDF', /'Text', /'ImageC', /'ImageI', /'ImageB']}, streams=[<PDFStream(2): raw=2442, {'Length': <PDFObjRef:3>, 'Filter': /'FlateDecode'}>], ctm=(1, 0, 0, 1, 0, 0)\n",
      "INFO:pdfminer.pdfinterp:get_font: create: objid=24, spec={'Type': /'Font', 'Subtype': /'TrueType', 'BaseFont': /'BAAAAA+TimesNewRomanPSMT', 'FirstChar': 0, 'LastChar': 56, 'Widths': [777, 556, 443, 277, 333, 277, 443, 250, 722, 500, 500, 443, 500, 500, 777, 500, 389, 443, 333, 277, 500, 500, 500, 500, 610, 500, 500, 556, 500, 500, 500, 500, 500, 500, 920, 500, 250, 443, 666, 722, 500, 250, 500, 500, 500, 889, 722, 443, 333, 277, 666, 500, 1000, 666, 722, 180, 443], 'FontDescriptor': <PDFObjRef:22>, 'ToUnicode': <PDFObjRef:23>}\n",
      "INFO:pdfminer.pdfinterp:get_font: create: objid=19, spec={'Type': /'Font', 'Subtype': /'TrueType', 'BaseFont': /'CAAAAA+TimesNewRomanPS-BoldMT', 'FirstChar': 0, 'LastChar': 55, 'Widths': [777, 943, 500, 556, 556, 333, 443, 277, 500, 443, 666, 500, 277, 250, 389, 443, 833, 333, 610, 722, 777, 722, 722, 722, 500, 722, 333, 722, 666, 556, 333, 333, 666, 722, 500, 556, 250, 610, 500, 389, 556, 777, 556, 666, 500, 443, 443, 777, 1000, 777, 500, 443, 500, 500, 500, 500], 'FontDescriptor': <PDFObjRef:17>, 'ToUnicode': <PDFObjRef:18>}\n",
      "INFO:pdfminer.pdfinterp:get_font: create: objid=14, spec={'Type': /'Font', 'Subtype': /'TrueType', 'BaseFont': /'DAAAAA+ArialMT', 'FirstChar': 0, 'LastChar': 17, 'Widths': [750, 833, 556, 277, 556, 556, 556, 556, 277, 556, 277, 333, 222, 500, 222, 500, 556, 556], 'FontDescriptor': <PDFObjRef:12>, 'ToUnicode': <PDFObjRef:13>}\n",
      "INFO:pdfminer.pdfinterp:Processing xobj: <PDFStream(4): raw=49128, {'Type': /'XObject', 'Subtype': /'Image', 'Width': 413, 'Height': 531, 'BitsPerComponent': 8, 'ColorSpace': /'DeviceRGB', 'Filter': /'DCTDecode', 'Length': 49127}>\n"
     ]
    }
   ],
   "source": [
    "doc = extract_pdf_lines_with_words('./good_parsing_1.pdf')"
   ]
  },
  {
   "cell_type": "code",
   "execution_count": 17,
   "metadata": {},
   "outputs": [],
   "source": [
    "from xtramile.vision.ocr.tools import validate_bbox, clean_text, extract_pdf_lines_with_words, dump_to_layoutlm_json, bbox_string\n",
    "from xtramile.vision.factory import BoxesDocumentFactory\n",
    "from xtramile.vision.visual_lm.tools import to_boxes_document_with_words_tags, seg_buffer, convert, read_examples_from_buffers, get_dataset"
   ]
  },
  {
   "cell_type": "code",
   "execution_count": 18,
   "metadata": {},
   "outputs": [
    {
     "data": {
      "image/png": "[encoded data removed]",
      "text/plain": [
       "<Figure size 360x360 with 1 Axes>"
      ]
     },
     "execution_count": 18,
     "metadata": {},
     "output_type": "execute_result"
    }
   ],
   "source": [
    "pdf_doc = to_boxes_document_with_words_tags(doc)\n",
    "pdf_doc.show()"
   ]
  },
  {
   "cell_type": "code",
   "execution_count": 19,
   "metadata": {},
   "outputs": [],
   "source": [
    "pdf_json = dump_to_layoutlm_json(pdf_doc)"
   ]
  },
  {
   "cell_type": "code",
   "execution_count": 20,
   "metadata": {},
   "outputs": [
    {
     "name": "stdout",
     "output_type": "stream",
     "text": [
      "INFO:transformers.tokenization_utils:Model name 'pretrained/syn_model' not found in model shortcut name list (bert-base-uncased, bert-large-uncased, bert-base-cased, bert-large-cased, bert-base-multilingual-uncased, bert-base-multilingual-cased, bert-base-chinese, bert-base-german-cased, bert-large-uncased-whole-word-masking, bert-large-cased-whole-word-masking, bert-large-uncased-whole-word-masking-finetuned-squad, bert-large-cased-whole-word-masking-finetuned-squad, bert-base-cased-finetuned-mrpc, bert-base-german-dbmdz-cased, bert-base-german-dbmdz-uncased, bert-base-finnish-cased-v1, bert-base-finnish-uncased-v1, bert-base-dutch-cased). Assuming 'pretrained/syn_model' is a path, a model identifier, or url to a directory containing tokenizer files.\n",
      "INFO:transformers.tokenization_utils:Didn't find file pretrained/syn_model/added_tokens.json. We won't load it.\n",
      "INFO:transformers.tokenization_utils:loading file pretrained/syn_model/vocab.txt\n",
      "INFO:transformers.tokenization_utils:loading file None\n",
      "INFO:transformers.tokenization_utils:loading file pretrained/syn_model/special_tokens_map.json\n",
      "INFO:transformers.tokenization_utils:loading file pretrained/syn_model/tokenizer_config.json\n"
     ]
    }
   ],
   "source": [
    "tokenizer, text_buffer, boxes_buffer = convert(pdf_doc, pdf_json, model_name_or_path='pretrained/syn_model')\n",
    "examples, labels_ = read_examples_from_buffers(text_buffer, boxes_buffer, mode='test')"
   ]
  },
  {
   "cell_type": "code",
   "execution_count": 22,
   "metadata": {},
   "outputs": [],
   "source": [
    "dataset = get_dataset(args.model_type, tokenizer, examples, labels_, pad_token_label_id)"
   ]
  },
  {
   "cell_type": "code",
   "execution_count": 23,
   "metadata": {},
   "outputs": [],
   "source": [
    "from xtramile.vision.visual_lm.tools import pred"
   ]
  },
  {
   "cell_type": "code",
   "execution_count": 24,
   "metadata": {},
   "outputs": [
    {
     "name": "stderr",
     "output_type": "stream",
     "text": [
      "Evaluating: 100%|██████████| 1/1 [00:00<00:00, 34.00it/s]\n"
     ]
    }
   ],
   "source": [
    "labels = get_labels('./data_xt/labels.txt')\n",
    "predictions, boxes = pred(args, model, dataset, labels, pad_token_label_id)"
   ]
  },
  {
   "cell_type": "code",
   "execution_count": 25,
   "metadata": {},
   "outputs": [],
   "source": [
    "from xtramile.vision.core import BoundingBoxFigure, BoxesDocument"
   ]
  },
  {
   "cell_type": "code",
   "execution_count": 26,
   "metadata": {},
   "outputs": [],
   "source": [
    "lbs = list(set([l[l.index('-')+1:] if '-' in l else 'OTHER_GROUP' for l in labels]))"
   ]
  },
  {
   "cell_type": "code",
   "execution_count": 28,
   "metadata": {},
   "outputs": [
    {
     "data": {
      "image/png": "[encoded data removed]",
      "text/plain": [
       "<Figure size 864x720 with 1 Axes>"
      ]
     },
     "execution_count": 28,
     "metadata": {},
     "output_type": "execute_result"
    }
   ],
   "source": [
    "figs = []\n",
    "\n",
    "for idx in range(len(predictions)):\n",
    "    bxs = boxes[idx]\n",
    "    # bxs = examples[idx].boxes\n",
    "\n",
    "    for p, b in zip(predictions[idx], bxs):\n",
    "        p = p[p.index('-')+1:] if '-' in p else 'OTHER_GROUP'\n",
    "        figs.append(BoundingBoxFigure(label=p, box=b, text=p))\n",
    "    \n",
    "BoxesDocument(figs, size=(1000, 1000), classes=lbs).show(figsize=(12, 10), show_labels=False)"
   ]
  },
  {
   "cell_type": "code",
   "execution_count": null,
   "metadata": {},
   "outputs": [],
   "source": []
  }
 ],
 "metadata": {
  "kernelspec": {
   "display_name": "Python 3",
   "language": "python",
   "name": "python3"
  },
  "language_info": {
   "codemirror_mode": {
    "name": "ipython",
    "version": 3
   },
   "file_extension": ".py",
   "mimetype": "text/x-python",
   "name": "python",
   "nbconvert_exporter": "python",
   "pygments_lexer": "ipython3",
   "version": "3.7.4"
  }
 },
 "nbformat": 4,
 "nbformat_minor": 4
}
